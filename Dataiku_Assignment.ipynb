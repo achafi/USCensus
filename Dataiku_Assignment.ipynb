{
 "cells": [
  {
   "cell_type": "markdown",
   "metadata": {},
   "source": [
    "# Task: Given attributes about a person, predict whether their income is <=50k or >=50k"
   ]
  },
  {
   "cell_type": "code",
   "execution_count": 1072,
   "metadata": {},
   "outputs": [],
   "source": [
    "#Import libraries\n",
    "import numpy as np\n",
    "import pandas as pd\n",
    "\n",
    "import matplotlib\n",
    "matplotlib.use('pdf')\n",
    "import matplotlib.pyplot as plt\n",
    "import matplotlib.gridspec as gridspec"
   ]
  },
  {
   "cell_type": "code",
   "execution_count": 1073,
   "metadata": {},
   "outputs": [
    {
     "data": {
      "text/plain": [
       "(199523, 42)"
      ]
     },
     "execution_count": 1073,
     "metadata": {},
     "output_type": "execute_result"
    }
   ],
   "source": [
    "# Read csv file and convert \"?\" value to NAN\n",
    "data = pd.read_csv('census_income_learn.csv', header = None, na_values = ' ?')\n",
    "data.head(n = 10)\n",
    "data.shape"
   ]
  },
  {
   "cell_type": "code",
   "execution_count": 1074,
   "metadata": {},
   "outputs": [],
   "source": [
    "# Define the headers since the data does not have any\n",
    "data.columns = ['AAGE', 'ACLSWKR', 'ADTIND', 'ADTOCC','AHGA','AHRSPAY','AHSCOL', 'AMARITL', 'AMJIND', \n",
    "                'AMJOCC', 'ARACE','AREORGN', 'ASEX', 'AUNMEM', 'AUNTYPE', 'AWKSTAT', 'CAPGAIN',\n",
    "                'CAPLOSS', 'DIVVAL', 'FEDTAX', 'FILESTAT', 'GRINREG', 'GRINST', 'HHDFMX', 'HHDREL',\n",
    "                'MARSUPWT', 'MIGMTR1', 'MIGMTR3', 'MIGMTR4', 'MIGSAME', 'MIGSUN', 'NOEMP', \n",
    "                'PARENT', 'PEFNTVTY', 'PEMNTVTY', 'PENATVTY', 'PRCITSHP', 'VETQVA', 'VETYN','WKSWORK', 'YEAR', 'EARN']\n"
   ]
  },
  {
   "cell_type": "markdown",
   "metadata": {},
   "source": [
    "# Quick statistics"
   ]
  },
  {
   "cell_type": "code",
   "execution_count": 1075,
   "metadata": {},
   "outputs": [
    {
     "name": "stdout",
     "output_type": "stream",
     "text": [
      "                 AAGE           ACLSWKR         ADTIND         ADTOCC  \\\n",
      "count   199523.000000            199523  199523.000000  199523.000000   \n",
      "unique            NaN                 9            NaN            NaN   \n",
      "top               NaN   Not in universe            NaN            NaN   \n",
      "freq              NaN            100245            NaN            NaN   \n",
      "mean        34.494199               NaN      15.352320      11.306556   \n",
      "std         22.310895               NaN      18.067129      14.454204   \n",
      "min          0.000000               NaN       0.000000       0.000000   \n",
      "25%         15.000000               NaN       0.000000       0.000000   \n",
      "50%         33.000000               NaN       0.000000       0.000000   \n",
      "75%         50.000000               NaN      33.000000      26.000000   \n",
      "max         90.000000               NaN      51.000000      46.000000   \n",
      "\n",
      "                         AHGA        AHRSPAY            AHSCOL  \\\n",
      "count                  199523  199523.000000            199523   \n",
      "unique                     17            NaN                 3   \n",
      "top      High school graduate            NaN   Not in universe   \n",
      "freq                    48407            NaN            186943   \n",
      "mean                      NaN      55.426908               NaN   \n",
      "std                       NaN     274.896454               NaN   \n",
      "min                       NaN       0.000000               NaN   \n",
      "25%                       NaN       0.000000               NaN   \n",
      "50%                       NaN       0.000000               NaN   \n",
      "75%                       NaN       0.000000               NaN   \n",
      "max                       NaN    9999.000000               NaN   \n",
      "\n",
      "               AMARITL                        AMJIND            AMJOCC  \\\n",
      "count           199523                        199523            199523   \n",
      "unique               7                            24                15   \n",
      "top      Never married   Not in universe or children   Not in universe   \n",
      "freq             86485                        100684            100684   \n",
      "mean               NaN                           NaN               NaN   \n",
      "std                NaN                           NaN               NaN   \n",
      "min                NaN                           NaN               NaN   \n",
      "25%                NaN                           NaN               NaN   \n",
      "50%                NaN                           NaN               NaN   \n",
      "75%                NaN                           NaN               NaN   \n",
      "max                NaN                           NaN               NaN   \n",
      "\n",
      "          ...              PARENT        PEFNTVTY        PEMNTVTY  \\\n",
      "count     ...              192810          193404          196130   \n",
      "unique    ...                  42              42              42   \n",
      "top       ...       United-States   United-States   United-States   \n",
      "freq      ...              159163          160479          176989   \n",
      "mean      ...                 NaN             NaN             NaN   \n",
      "std       ...                 NaN             NaN             NaN   \n",
      "min       ...                 NaN             NaN             NaN   \n",
      "25%       ...                 NaN             NaN             NaN   \n",
      "50%       ...                 NaN             NaN             NaN   \n",
      "75%       ...                 NaN             NaN             NaN   \n",
      "max       ...                 NaN             NaN             NaN   \n",
      "\n",
      "                                  PENATVTY       PRCITSHP            VETQVA  \\\n",
      "count                               199523  199523.000000            199523   \n",
      "unique                                   5            NaN                 3   \n",
      "top      Native- Born in the United States            NaN   Not in universe   \n",
      "freq                                176992            NaN            197539   \n",
      "mean                                   NaN       0.175438               NaN   \n",
      "std                                    NaN       0.553694               NaN   \n",
      "min                                    NaN       0.000000               NaN   \n",
      "25%                                    NaN       0.000000               NaN   \n",
      "50%                                    NaN       0.000000               NaN   \n",
      "75%                                    NaN       0.000000               NaN   \n",
      "max                                    NaN       2.000000               NaN   \n",
      "\n",
      "                VETYN        WKSWORK           YEAR       EARN  \n",
      "count   199523.000000  199523.000000  199523.000000     199523  \n",
      "unique            NaN            NaN            NaN          2  \n",
      "top               NaN            NaN            NaN   - 50000.  \n",
      "freq              NaN            NaN            NaN     187141  \n",
      "mean         1.514833      23.174897      94.499672        NaN  \n",
      "std          0.851473      24.411488       0.500001        NaN  \n",
      "min          0.000000       0.000000      94.000000        NaN  \n",
      "25%          2.000000       0.000000      94.000000        NaN  \n",
      "50%          2.000000       8.000000      94.000000        NaN  \n",
      "75%          2.000000      52.000000      95.000000        NaN  \n",
      "max          2.000000      52.000000      95.000000        NaN  \n",
      "\n",
      "[11 rows x 42 columns]\n"
     ]
    }
   ],
   "source": [
    "# Include all to get description of different types of culumns \n",
    "print(data.describe(include = 'all'))"
   ]
  },
  {
   "cell_type": "code",
   "execution_count": 1076,
   "metadata": {},
   "outputs": [
    {
     "name": "stdout",
     "output_type": "stream",
     "text": [
      "                AAGE         ADTIND         ADTOCC        AHRSPAY  \\\n",
      "count  199523.000000  199523.000000  199523.000000  199523.000000   \n",
      "mean       34.494199      15.352320      11.306556      55.426908   \n",
      "std        22.310895      18.067129      14.454204     274.896454   \n",
      "min         0.000000       0.000000       0.000000       0.000000   \n",
      "25%        15.000000       0.000000       0.000000       0.000000   \n",
      "50%        33.000000       0.000000       0.000000       0.000000   \n",
      "75%        50.000000      33.000000      26.000000       0.000000   \n",
      "max        90.000000      51.000000      46.000000    9999.000000   \n",
      "\n",
      "            CAPGAIN        CAPLOSS         DIVVAL         HHDREL  \\\n",
      "count  199523.00000  199523.000000  199523.000000  199523.000000   \n",
      "mean      434.71899      37.313788     197.529533    1740.380269   \n",
      "std      4697.53128     271.896428    1984.163658     993.768156   \n",
      "min         0.00000       0.000000       0.000000      37.870000   \n",
      "25%         0.00000       0.000000       0.000000    1061.615000   \n",
      "50%         0.00000       0.000000       0.000000    1618.310000   \n",
      "75%         0.00000       0.000000       0.000000    2188.610000   \n",
      "max     99999.00000    4608.000000   99999.000000   18656.300000   \n",
      "\n",
      "              MIGSUN       PRCITSHP          VETYN        WKSWORK  \\\n",
      "count  199523.000000  199523.000000  199523.000000  199523.000000   \n",
      "mean        1.956180       0.175438       1.514833      23.174897   \n",
      "std         2.365126       0.553694       0.851473      24.411488   \n",
      "min         0.000000       0.000000       0.000000       0.000000   \n",
      "25%         0.000000       0.000000       2.000000       0.000000   \n",
      "50%         1.000000       0.000000       2.000000       8.000000   \n",
      "75%         4.000000       0.000000       2.000000      52.000000   \n",
      "max         6.000000       2.000000       2.000000      52.000000   \n",
      "\n",
      "                YEAR  \n",
      "count  199523.000000  \n",
      "mean       94.499672  \n",
      "std         0.500001  \n",
      "min        94.000000  \n",
      "25%        94.000000  \n",
      "50%        94.000000  \n",
      "75%        95.000000  \n",
      "max        95.000000  \n"
     ]
    }
   ],
   "source": [
    "#Numerical columns\n",
    "print(data.describe(include = [np.number]))"
   ]
  },
  {
   "cell_type": "code",
   "execution_count": 1077,
   "metadata": {},
   "outputs": [
    {
     "name": "stdout",
     "output_type": "stream",
     "text": [
      "                 ACLSWKR                   AHGA            AHSCOL  \\\n",
      "count             199523                 199523            199523   \n",
      "unique                 9                     17                 3   \n",
      "top      Not in universe   High school graduate   Not in universe   \n",
      "freq              100245                  48407            186943   \n",
      "\n",
      "               AMARITL                        AMJIND            AMJOCC  \\\n",
      "count           199523                        199523            199523   \n",
      "unique               7                            24                15   \n",
      "top      Never married   Not in universe or children   Not in universe   \n",
      "freq             86485                        100684            100684   \n",
      "\n",
      "         ARACE     AREORGN     ASEX            AUNMEM    ...        MIGMTR3  \\\n",
      "count   199523      199523   199523            199523    ...          99827   \n",
      "unique       5          10        2                 3    ...              9   \n",
      "top      White   All other   Female   Not in universe    ...       Nonmover   \n",
      "freq    167365      171907   103984            180459    ...          82538   \n",
      "\n",
      "                                  MIGMTR4           MIGSAME             NOEMP  \\\n",
      "count                              199523             99827            199523   \n",
      "unique                                  3                 3                 5   \n",
      "top      Not in universe under 1 year old   Not in universe   Not in universe   \n",
      "freq                               101212             84054            144232   \n",
      "\n",
      "                PARENT        PEFNTVTY        PEMNTVTY  \\\n",
      "count           192810          193404          196130   \n",
      "unique              42              42              42   \n",
      "top      United-States   United-States   United-States   \n",
      "freq            159163          160479          176989   \n",
      "\n",
      "                                  PENATVTY            VETQVA       EARN  \n",
      "count                               199523            199523     199523  \n",
      "unique                                   5                 3          2  \n",
      "top      Native- Born in the United States   Not in universe   - 50000.  \n",
      "freq                                176992            197539     187141  \n",
      "\n",
      "[4 rows x 29 columns]\n"
     ]
    }
   ],
   "source": [
    "#Non numerical columns\n",
    "print(data.describe(include = ['O']))\n"
   ]
  },
  {
   "cell_type": "code",
   "execution_count": 1078,
   "metadata": {},
   "outputs": [
    {
     "name": "stdout",
     "output_type": "stream",
     "text": [
      " - 50000.    187141\n",
      " 50000+.      12382\n",
      "Name: EARN, dtype: int64\n"
     ]
    }
   ],
   "source": [
    "# Take a look at the outcome variable: 'EARN'\n",
    "print(data['EARN'].value_counts())\n"
   ]
  },
  {
   "cell_type": "code",
   "execution_count": 1079,
   "metadata": {},
   "outputs": [],
   "source": [
    "# Assign outcome as 0 if income <=50K and as 1 if income >50K\n",
    "data['EARN'] = [0 if x == ' - 50000.' else 1 for x in data['EARN']]\n",
    "\n",
    "# Assign X as a DataFrame of features and y as a Series of the outcome variable\n",
    "X = data.drop('EARN', 1)\n",
    "y = data.EARN\n"
   ]
  },
  {
   "cell_type": "code",
   "execution_count": 1080,
   "metadata": {},
   "outputs": [
    {
     "data": {
      "text/plain": [
       "0    187141\n",
       "1     12382\n",
       "Name: EARN, dtype: int64"
      ]
     },
     "execution_count": 1080,
     "metadata": {},
     "output_type": "execute_result"
    }
   ],
   "source": [
    "y.value_counts().sort_values(ascending=False).head(n=10)"
   ]
  },
  {
   "cell_type": "markdown",
   "metadata": {},
   "source": [
    "##### the amount of earn <= to -50k is 15 times superior than earn wich is >= to 50k."
   ]
  },
  {
   "cell_type": "code",
   "execution_count": 1081,
   "metadata": {},
   "outputs": [
    {
     "data": {
      "text/plain": [
       "MARSUPWT    99696\n",
       "MIGSAME     99696\n",
       "MIGMTR3     99696\n",
       "MIGMTR1     99696\n",
       "PARENT       6713\n",
       "PEFNTVTY     6119\n",
       "PEMNTVTY     3393\n",
       "GRINREG       708\n",
       "YEAR            0\n",
       "AUNMEM          0\n",
       "dtype: int64"
      ]
     },
     "execution_count": 1081,
     "metadata": {},
     "output_type": "execute_result"
    }
   ],
   "source": [
    "#How much data is missing\n",
    "X.isnull().sum().sort_values(ascending = False).head(n = 10)"
   ]
  },
  {
   "cell_type": "code",
   "execution_count": 1082,
   "metadata": {},
   "outputs": [
    {
     "name": "stdout",
     "output_type": "stream",
     "text": [
      "('GRINREG', 0.004)\n",
      "('MARSUPWT', 0.5)\n",
      "('MIGMTR1', 0.5)\n",
      "('MIGMTR3', 0.5)\n",
      "('MIGSAME', 0.5)\n",
      "('PARENT', 0.034)\n",
      "('PEFNTVTY', 0.031)\n",
      "('PEMNTVTY', 0.017)\n"
     ]
    }
   ],
   "source": [
    "#percentage of missing values: \n",
    "def get_percentage_missing(serie):\n",
    "    \"\"\" \n",
    "    Calculates percentage of NaN values in DataFrame\n",
    "        -param column: Pandas DataFrame object\n",
    "        -return: float\n",
    "    \"\"\"\n",
    "    num = float(serie.isnull().sum())\n",
    "    return round(float(num/len(serie)), 3)\n",
    "\n",
    "# Only include columns that contain any NaN values\n",
    "data_with_null_values = X[X.columns[X.isnull().any()].tolist()]\n",
    "for name, values in data_with_null_values.iteritems():\n",
    "    print (name,get_percentage_missing(data_with_null_values[name]))\n",
    "    "
   ]
  },
  {
   "cell_type": "code",
   "execution_count": 1083,
   "metadata": {},
   "outputs": [
    {
     "name": "stdout",
     "output_type": "stream",
     "text": [
      "Feature 'ACLSWKR' has 9 unique categories\n",
      "Feature 'AHGA' has 17 unique categories\n",
      "Feature 'AHSCOL' has 3 unique categories\n",
      "Feature 'AMARITL' has 7 unique categories\n",
      "Feature 'AMJIND' has 24 unique categories\n",
      "Feature 'AMJOCC' has 15 unique categories\n",
      "Feature 'ARACE' has 5 unique categories\n",
      "Feature 'AREORGN' has 10 unique categories\n",
      "Feature 'ASEX' has 2 unique categories\n",
      "Feature 'AUNMEM' has 3 unique categories\n",
      "Feature 'AUNTYPE' has 6 unique categories\n",
      "Feature 'AWKSTAT' has 8 unique categories\n",
      "Feature 'FEDTAX' has 6 unique categories\n",
      "Feature 'FILESTAT' has 6 unique categories\n",
      "Feature 'GRINREG' has 51 unique categories\n",
      "Feature 'GRINST' has 38 unique categories\n",
      "Feature 'HHDFMX' has 8 unique categories\n",
      "Feature 'MARSUPWT' has 10 unique categories\n",
      "Feature 'MIGMTR1' has 9 unique categories\n",
      "Feature 'MIGMTR3' has 10 unique categories\n",
      "Feature 'MIGMTR4' has 3 unique categories\n",
      "Feature 'MIGSAME' has 4 unique categories\n",
      "Feature 'NOEMP' has 5 unique categories\n",
      "Feature 'PARENT' has 43 unique categories\n",
      "Feature 'PEFNTVTY' has 43 unique categories\n",
      "Feature 'PEMNTVTY' has 43 unique categories\n",
      "Feature 'PENATVTY' has 5 unique categories\n",
      "Feature 'VETQVA' has 3 unique categories\n"
     ]
    }
   ],
   "source": [
    "#Categorical variables \n",
    "for column_name in X.columns:\n",
    "    if X[column_name].dtypes == 'object':\n",
    "        unique_cat = len(X[column_name].unique())\n",
    "        print(\"Feature '{column_name}' has {unique_cat} unique categories\".format(column_name = column_name, unique_cat = unique_cat))"
   ]
  },
  {
   "cell_type": "markdown",
   "metadata": {},
   "source": [
    "###### 'GRINREG', 'PARENT' ,'PEFNTVTY', 'PEMNTVTY' have lot of unique categories,it not really useful to dummy up those variables."
   ]
  },
  {
   "cell_type": "code",
   "execution_count": 1084,
   "metadata": {},
   "outputs": [
    {
     "data": {
      "text/plain": [
       " Not in universe    183750\n",
       " California           1714\n",
       " Utah                 1063\n",
       " Florida               849\n",
       " North Carolina        812\n",
       " Abroad                671\n",
       " Oklahoma              626\n",
       " Minnesota             576\n",
       " Indiana               533\n",
       " North Dakota          499\n",
       "Name: GRINREG, dtype: int64"
      ]
     },
     "execution_count": 1084,
     "metadata": {},
     "output_type": "execute_result"
    }
   ],
   "source": [
    "#Lot of low frequency of each unique categories,\n",
    "X['GRINREG'].value_counts().sort_values(ascending=False).head(n=10)"
   ]
  },
  {
   "cell_type": "code",
   "execution_count": 1085,
   "metadata": {},
   "outputs": [
    {
     "data": {
      "text/plain": [
       " Householder                                        53248\n",
       " Child <18 never marr not in subfamily              50326\n",
       " Spouse of householder                              41695\n",
       " Nonfamily householder                              22213\n",
       " Child 18+ never marr Not in a subfamily            12030\n",
       " Secondary individual                                6122\n",
       " Other Rel 18+ ever marr not in subfamily            1956\n",
       " Grandchild <18 never marr child of subfamily RP     1868\n",
       " Other Rel 18+ never marr not in subfamily           1728\n",
       " Grandchild <18 never marr not in subfamily          1066\n",
       "Name: GRINST, dtype: int64"
      ]
     },
     "execution_count": 1085,
     "metadata": {},
     "output_type": "execute_result"
    }
   ],
   "source": [
    "X['GRINST'].value_counts().sort_values(ascending=False).head(n=10)"
   ]
  },
  {
   "cell_type": "code",
   "execution_count": 1086,
   "metadata": {},
   "outputs": [
    {
     "data": {
      "text/plain": [
       " United-States         159163\n",
       " Mexico                 10008\n",
       " Puerto-Rico             2680\n",
       " Italy                   2212\n",
       " Canada                  1380\n",
       " Germany                 1356\n",
       " Dominican-Republic      1290\n",
       " Poland                  1212\n",
       " Philippines             1154\n",
       " Cuba                    1125\n",
       "Name: PARENT, dtype: int64"
      ]
     },
     "execution_count": 1086,
     "metadata": {},
     "output_type": "execute_result"
    }
   ],
   "source": [
    "X['PARENT'].value_counts().sort_values(ascending=False).head(n=10)"
   ]
  },
  {
   "cell_type": "code",
   "execution_count": 1087,
   "metadata": {},
   "outputs": [
    {
     "data": {
      "text/plain": [
       " United-States    160479\n",
       " Mexico             9781\n",
       " Puerto-Rico        2473\n",
       " Italy              1844\n",
       " Canada             1451\n",
       " Germany            1382\n",
       " Philippines        1231\n",
       " Poland             1110\n",
       " Cuba               1108\n",
       " El-Salvador        1108\n",
       "Name: PEFNTVTY, dtype: int64"
      ]
     },
     "execution_count": 1087,
     "metadata": {},
     "output_type": "execute_result"
    }
   ],
   "source": [
    "X['PEFNTVTY'].value_counts().sort_values(ascending=False).head(n=10)"
   ]
  },
  {
   "cell_type": "code",
   "execution_count": 1088,
   "metadata": {},
   "outputs": [
    {
     "data": {
      "text/plain": [
       " United-States         176989\n",
       " Mexico                  5767\n",
       " Puerto-Rico             1400\n",
       " Germany                  851\n",
       " Philippines              845\n",
       " Cuba                     837\n",
       " Canada                   700\n",
       " Dominican-Republic       690\n",
       " El-Salvador              689\n",
       " China                    478\n",
       "Name: PEMNTVTY, dtype: int64"
      ]
     },
     "execution_count": 1088,
     "metadata": {},
     "output_type": "execute_result"
    }
   ],
   "source": [
    "X['PEMNTVTY'].value_counts().sort_values(ascending=False).head(n = 10)"
   ]
  },
  {
   "cell_type": "code",
   "execution_count": 1089,
   "metadata": {},
   "outputs": [],
   "source": [
    "#In this case, we bucket low frequency categories as 'Other'\n",
    "X['GRINREG'] = [' Not in universe' if x == ' Not in universe' else 'Other' for x in X['GRINREG'] ]\n",
    "X['GRINST'] = ['Householder' if x == ' Householder' else 'Other' for x in X['GRINST'] ]\n",
    "X['PARENT'] = [' United-States' if x == ' United-States' else 'Other' for x in X['PARENT'] ]\n",
    "X['PEFNTVTY'] = [' United-States' if x == ' United-States' else 'Other' for x in X['PEFNTVTY'] ]\n",
    "X['PEMNTVTY'] = [' United-States' if x == ' United-States' else 'Other' for x in X['PEMNTVTY'] ]"
   ]
  },
  {
   "cell_type": "code",
   "execution_count": 1090,
   "metadata": {},
   "outputs": [],
   "source": [
    "#Create a list of Non numeric features\n",
    "todummy_list = ['ACLSWKR', 'AHGA', 'AHSCOL', 'AMARITL', 'AMJIND', 'AMJOCC', 'ARACE','AREORGN', 'ASEX', 'AUNMEM','AUNTYPE',\n",
    "               'AWKSTAT','FEDTAX', 'FILESTAT','GRINREG','GRINST','HHDFMX', 'MARSUPWT', 'MIGMTR1', 'MIGMTR3', 'MIGMTR4', 'MIGSAME', 'NOEMP', 'PARENT', 'PEFNTVTY', 'PEMNTVTY', 'PENATVTY', 'VETQVA']"
   ]
  },
  {
   "cell_type": "markdown",
   "metadata": {},
   "source": [
    "# Handling missing Data:\n",
    "\n",
    "I will do the simplest solution, which is removing features that have missing data(dummy_na = False).\n",
    "This still not the better solution, because if the data is randomly missing, i will potentially lose a lot of data, if not i will introduce a potential biases.The better solution is to use imputation: replace missing values with mean, median, highest frequency of given feature."
   ]
  },
  {
   "cell_type": "code",
   "execution_count": 1091,
   "metadata": {},
   "outputs": [],
   "source": [
    "#Function to dummy all the categorical variables\n",
    "def label_encoding(df, todummy_list):\n",
    "    \"\"\"\n",
    "    Prameter: \n",
    "        - df : Pandas dataframe of the dataset\n",
    "        - todummy_list : list of non numeric features \n",
    "    Return: \n",
    "        - df: Pandas dataframe with all featurs dummied\n",
    "    \n",
    "    \"\"\"\n",
    "    for x in todummy_list:\n",
    "        dummies = pd.get_dummies(df[x], prefix = x, dummy_na = False)\n",
    "        df = df.drop(x, 1)\n",
    "        df = pd.concat([df, dummies], axis=1)\n",
    "    return df\n"
   ]
  },
  {
   "cell_type": "code",
   "execution_count": 1092,
   "metadata": {},
   "outputs": [],
   "source": [
    "\n",
    "X = label_encoding(X, todummy_list) \n"
   ]
  },
  {
   "cell_type": "code",
   "execution_count": 1093,
   "metadata": {},
   "outputs": [
    {
     "data": {
      "text/html": [
       "<div>\n",
       "<table border=\"1\" class=\"dataframe\">\n",
       "  <thead>\n",
       "    <tr style=\"text-align: right;\">\n",
       "      <th></th>\n",
       "      <th>AAGE</th>\n",
       "      <th>ADTIND</th>\n",
       "      <th>ADTOCC</th>\n",
       "      <th>AHRSPAY</th>\n",
       "      <th>CAPGAIN</th>\n",
       "      <th>CAPLOSS</th>\n",
       "      <th>DIVVAL</th>\n",
       "      <th>HHDREL</th>\n",
       "      <th>MIGSUN</th>\n",
       "      <th>PRCITSHP</th>\n",
       "      <th>...</th>\n",
       "      <th>PEMNTVTY_ United-States</th>\n",
       "      <th>PEMNTVTY_Other</th>\n",
       "      <th>PENATVTY_ Foreign born- Not a citizen of U S</th>\n",
       "      <th>PENATVTY_ Foreign born- U S citizen by naturalization</th>\n",
       "      <th>PENATVTY_ Native- Born abroad of American Parent(s)</th>\n",
       "      <th>PENATVTY_ Native- Born in Puerto Rico or U S Outlying</th>\n",
       "      <th>PENATVTY_ Native- Born in the United States</th>\n",
       "      <th>VETQVA_ No</th>\n",
       "      <th>VETQVA_ Not in universe</th>\n",
       "      <th>VETQVA_ Yes</th>\n",
       "    </tr>\n",
       "  </thead>\n",
       "  <tbody>\n",
       "    <tr>\n",
       "      <th>0</th>\n",
       "      <td>73</td>\n",
       "      <td>0</td>\n",
       "      <td>0</td>\n",
       "      <td>0</td>\n",
       "      <td>0</td>\n",
       "      <td>0</td>\n",
       "      <td>0</td>\n",
       "      <td>1700.09</td>\n",
       "      <td>0</td>\n",
       "      <td>0</td>\n",
       "      <td>...</td>\n",
       "      <td>1</td>\n",
       "      <td>0</td>\n",
       "      <td>0</td>\n",
       "      <td>0</td>\n",
       "      <td>0</td>\n",
       "      <td>0</td>\n",
       "      <td>1</td>\n",
       "      <td>0</td>\n",
       "      <td>1</td>\n",
       "      <td>0</td>\n",
       "    </tr>\n",
       "    <tr>\n",
       "      <th>1</th>\n",
       "      <td>58</td>\n",
       "      <td>4</td>\n",
       "      <td>34</td>\n",
       "      <td>0</td>\n",
       "      <td>0</td>\n",
       "      <td>0</td>\n",
       "      <td>0</td>\n",
       "      <td>1053.55</td>\n",
       "      <td>1</td>\n",
       "      <td>0</td>\n",
       "      <td>...</td>\n",
       "      <td>1</td>\n",
       "      <td>0</td>\n",
       "      <td>0</td>\n",
       "      <td>0</td>\n",
       "      <td>0</td>\n",
       "      <td>0</td>\n",
       "      <td>1</td>\n",
       "      <td>0</td>\n",
       "      <td>1</td>\n",
       "      <td>0</td>\n",
       "    </tr>\n",
       "    <tr>\n",
       "      <th>2</th>\n",
       "      <td>18</td>\n",
       "      <td>0</td>\n",
       "      <td>0</td>\n",
       "      <td>0</td>\n",
       "      <td>0</td>\n",
       "      <td>0</td>\n",
       "      <td>0</td>\n",
       "      <td>991.95</td>\n",
       "      <td>0</td>\n",
       "      <td>0</td>\n",
       "      <td>...</td>\n",
       "      <td>0</td>\n",
       "      <td>1</td>\n",
       "      <td>1</td>\n",
       "      <td>0</td>\n",
       "      <td>0</td>\n",
       "      <td>0</td>\n",
       "      <td>0</td>\n",
       "      <td>0</td>\n",
       "      <td>1</td>\n",
       "      <td>0</td>\n",
       "    </tr>\n",
       "    <tr>\n",
       "      <th>3</th>\n",
       "      <td>9</td>\n",
       "      <td>0</td>\n",
       "      <td>0</td>\n",
       "      <td>0</td>\n",
       "      <td>0</td>\n",
       "      <td>0</td>\n",
       "      <td>0</td>\n",
       "      <td>1758.14</td>\n",
       "      <td>0</td>\n",
       "      <td>0</td>\n",
       "      <td>...</td>\n",
       "      <td>1</td>\n",
       "      <td>0</td>\n",
       "      <td>0</td>\n",
       "      <td>0</td>\n",
       "      <td>0</td>\n",
       "      <td>0</td>\n",
       "      <td>1</td>\n",
       "      <td>0</td>\n",
       "      <td>1</td>\n",
       "      <td>0</td>\n",
       "    </tr>\n",
       "    <tr>\n",
       "      <th>4</th>\n",
       "      <td>10</td>\n",
       "      <td>0</td>\n",
       "      <td>0</td>\n",
       "      <td>0</td>\n",
       "      <td>0</td>\n",
       "      <td>0</td>\n",
       "      <td>0</td>\n",
       "      <td>1069.16</td>\n",
       "      <td>0</td>\n",
       "      <td>0</td>\n",
       "      <td>...</td>\n",
       "      <td>1</td>\n",
       "      <td>0</td>\n",
       "      <td>0</td>\n",
       "      <td>0</td>\n",
       "      <td>0</td>\n",
       "      <td>0</td>\n",
       "      <td>1</td>\n",
       "      <td>0</td>\n",
       "      <td>1</td>\n",
       "      <td>0</td>\n",
       "    </tr>\n",
       "  </tbody>\n",
       "</table>\n",
       "<p>5 rows × 197 columns</p>\n",
       "</div>"
      ],
      "text/plain": [
       "   AAGE  ADTIND  ADTOCC  AHRSPAY  CAPGAIN  CAPLOSS  DIVVAL   HHDREL  MIGSUN  \\\n",
       "0    73       0       0        0        0        0       0  1700.09       0   \n",
       "1    58       4      34        0        0        0       0  1053.55       1   \n",
       "2    18       0       0        0        0        0       0   991.95       0   \n",
       "3     9       0       0        0        0        0       0  1758.14       0   \n",
       "4    10       0       0        0        0        0       0  1069.16       0   \n",
       "\n",
       "   PRCITSHP     ...       PEMNTVTY_ United-States  PEMNTVTY_Other  \\\n",
       "0         0     ...                             1               0   \n",
       "1         0     ...                             1               0   \n",
       "2         0     ...                             0               1   \n",
       "3         0     ...                             1               0   \n",
       "4         0     ...                             1               0   \n",
       "\n",
       "   PENATVTY_ Foreign born- Not a citizen of U S   \\\n",
       "0                                              0   \n",
       "1                                              0   \n",
       "2                                              1   \n",
       "3                                              0   \n",
       "4                                              0   \n",
       "\n",
       "   PENATVTY_ Foreign born- U S citizen by naturalization  \\\n",
       "0                                                  0       \n",
       "1                                                  0       \n",
       "2                                                  0       \n",
       "3                                                  0       \n",
       "4                                                  0       \n",
       "\n",
       "   PENATVTY_ Native- Born abroad of American Parent(s)  \\\n",
       "0                                                  0     \n",
       "1                                                  0     \n",
       "2                                                  0     \n",
       "3                                                  0     \n",
       "4                                                  0     \n",
       "\n",
       "   PENATVTY_ Native- Born in Puerto Rico or U S Outlying  \\\n",
       "0                                                  0       \n",
       "1                                                  0       \n",
       "2                                                  0       \n",
       "3                                                  0       \n",
       "4                                                  0       \n",
       "\n",
       "   PENATVTY_ Native- Born in the United States  VETQVA_ No  \\\n",
       "0                                            1           0   \n",
       "1                                            1           0   \n",
       "2                                            0           0   \n",
       "3                                            1           0   \n",
       "4                                            1           0   \n",
       "\n",
       "   VETQVA_ Not in universe  VETQVA_ Yes  \n",
       "0                        1            0  \n",
       "1                        1            0  \n",
       "2                        1            0  \n",
       "3                        1            0  \n",
       "4                        1            0  \n",
       "\n",
       "[5 rows x 197 columns]"
      ]
     },
     "execution_count": 1093,
     "metadata": {},
     "output_type": "execute_result"
    }
   ],
   "source": [
    "X.head()"
   ]
  },
  {
   "cell_type": "code",
   "execution_count": 1094,
   "metadata": {},
   "outputs": [
    {
     "data": {
      "text/plain": [
       "VETQVA_ Yes                                    0\n",
       "AMJIND_ Wholesale trade                        0\n",
       "AMJIND_ Transportation                         0\n",
       "AMJIND_ Social services                        0\n",
       "AMJIND_ Retail trade                           0\n",
       "AMJIND_ Public administration                  0\n",
       "AMJIND_ Private household services             0\n",
       "AMJIND_ Personal services except private HH    0\n",
       "AMJIND_ Other professional services            0\n",
       "AMJIND_ Not in universe or children            0\n",
       "dtype: int64"
      ]
     },
     "execution_count": 1094,
     "metadata": {},
     "output_type": "execute_result"
    }
   ],
   "source": [
    "#How much data is missing\n",
    "X.isnull().sum().sort_values(ascending = False).head(n = 10)"
   ]
  },
  {
   "cell_type": "markdown",
   "metadata": {},
   "source": [
    "#### There are no more missing values"
   ]
  },
  {
   "cell_type": "markdown",
   "metadata": {},
   "source": [
    "# More Data Exploration\n",
    "## Outlier detection:"
   ]
  },
  {
   "cell_type": "code",
   "execution_count": 1095,
   "metadata": {},
   "outputs": [],
   "source": [
    "# Tukey IQR: Identifies extrem values in data\n",
    "def find_outliers_tukey(x):\n",
    "    \"\"\"\n",
    "    Parameter:\n",
    "        - x : Feature name\n",
    "    Return :\n",
    "        - list of outlier's indices and values\n",
    "    \"\"\"\n",
    "    #1st an 3rd quartile\n",
    "    q1 = np.percentile(x, 25)\n",
    "    q3 = np.percentile(x, 75)\n",
    "    iqr = q3 - q1\n",
    "    floor = q1 - 0.75*iqr\n",
    "    ceiling = q3 + 0.75*iqr\n",
    "    outlier_indices = list(x.index[(x < floor) | (x > ceiling)])\n",
    "    outlier_values = list(x[outlier_indices])\n",
    "    \n",
    "    return outlier_indices, outlier_values\n",
    "    \n",
    "    \n",
    "    "
   ]
  },
  {
   "cell_type": "code",
   "execution_count": 1096,
   "metadata": {},
   "outputs": [
    {
     "name": "stdout",
     "output_type": "stream",
     "text": [
      "[77 77 77 ..., 90 90 90]\n"
     ]
    }
   ],
   "source": [
    "outlier_indices, outlier_values = find_outliers_tukey(X['AAGE'])\n",
    "print(np.sort(outlier_values))"
   ]
  },
  {
   "cell_type": "markdown",
   "metadata": {},
   "source": [
    "the outliers for feature AGE: are older people who still geting income"
   ]
  },
  {
   "cell_type": "markdown",
   "metadata": {},
   "source": [
    "## Distribution of Features"
   ]
  },
  {
   "cell_type": "code",
   "execution_count": 1098,
   "metadata": {},
   "outputs": [
    {
     "data": {
      "text/plain": [
       "<matplotlib.text.Text at 0x7fa76b6c8d10>"
      ]
     },
     "execution_count": 1098,
     "metadata": {},
     "output_type": "execute_result"
    },
    {
     "data": {
      "image/png": "[encoded data removed]",
      "text/plain": [
       "<matplotlib.figure.Figure at 0x7fa76ad68510>"
      ]
     },
     "metadata": {},
     "output_type": "display_data"
    }
   ],
   "source": [
    "aFig1 = plt.figure(figsize=(10, 15))\n",
    "gs = gridspec.GridSpec(3,3)\n",
    "\n",
    "ax1 = aFig1.add_subplot(gs[0])\n",
    "ax1 = data['EARN'].value_counts().plot(kind='bar', title =\"EARN\", fontsize=12)\n",
    " \n",
    "ax2 = aFig1.add_subplot(gs[0,2])\n",
    "ax2 = data['ACLSWKR'].value_counts().plot(kind = 'bar', title = 'class of worker')\n",
    "\n",
    "\n",
    "ax3 = aFig1.add_subplot(gs[1,0])\n",
    "ax3 = data['AHGA'].value_counts().plot(kind = 'bar', title = 'education')\n",
    "\n",
    "\n",
    "ax4 = aFig1.add_subplot(gs[1,2])\n",
    "ax4 = data['ADTOCC'].value_counts().plot(kind = 'bar', title = 'occupation code')\n",
    "\n",
    "ax5 = aFig1.add_subplot(gs[2,0])\n",
    "ax5 = data['AMJIND'].value_counts().plot(kind = 'bar', title = 'industry code')\n",
    "\n",
    "\n",
    "ax6 = aFig1.add_subplot(gs[2,2])\n",
    "ax6 = data['AAGE'].hist()\n",
    "ax6.set_title('AGE histogram')"
   ]
  },
  {
   "cell_type": "code",
   "execution_count": 1099,
   "metadata": {},
   "outputs": [
    {
     "data": {
      "text/plain": [
       "<matplotlib.text.Text at 0x7fa76bd21710>"
      ]
     },
     "execution_count": 1099,
     "metadata": {},
     "output_type": "execute_result"
    },
    {
     "data": {
      "image/png": "[encoded data removed]",
      "text/plain": [
       "<matplotlib.figure.Figure at 0x7fa76ac8f390>"
      ]
     },
     "metadata": {},
     "output_type": "display_data"
    }
   ],
   "source": [
    "#Ages vs earn value\n",
    "age0 = y[y == 0]\n",
    "age1 = y[y == 1]\n",
    "\n",
    "plt.hist([age0, age1], stacked=True)\n",
    "plt.xlabel('Age')\n",
    "plt.legend(('-50k', '+50k'))\n",
    "plt.title('Earn of different age ranges')"
   ]
  },
  {
   "cell_type": "code",
   "execution_count": 1100,
   "metadata": {},
   "outputs": [],
   "source": [
    "def plot_stacked(df, var_1, var_2):\n",
    "    df = df.groupby([var_1, var_2])[var_1].count().unstack(var_2).fillna(0)\n",
    "    return df.plot(kind='bar', stacked=True)\n",
    "    "
   ]
  },
  {
   "cell_type": "code",
   "execution_count": 1101,
   "metadata": {},
   "outputs": [
    {
     "data": {
      "image/png": "[encoded data removed]",
      "text/plain": [
       "<matplotlib.figure.Figure at 0x7fa76abb7650>"
      ]
     },
     "metadata": {},
     "output_type": "display_data"
    }
   ],
   "source": [
    "#Class of workers vs EARN\n",
    "df = plot_stacked(data, 'ACLSWKR', 'EARN')"
   ]
  },
  {
   "cell_type": "code",
   "execution_count": 1102,
   "metadata": {},
   "outputs": [
    {
     "data": {
      "image/png": "[encoded data removed]",
      "text/plain": [
       "<matplotlib.figure.Figure at 0x7fa76ac8f290>"
      ]
     },
     "metadata": {},
     "output_type": "display_data"
    }
   ],
   "source": [
    "#Education vs EARN\n",
    "df = plot_stacked(data, 'AHGA', 'EARN')"
   ]
  },
  {
   "cell_type": "code",
   "execution_count": 1103,
   "metadata": {},
   "outputs": [
    {
     "data": {
      "image/png": "[encoded data removed]",
      "text/plain": [
       "<matplotlib.figure.Figure at 0x7fa76b424d10>"
      ]
     },
     "metadata": {},
     "output_type": "display_data"
    }
   ],
   "source": [
    "#Ocupation vs EARN\n",
    "df = plot_stacked(data, 'ADTOCC', 'EARN')"
   ]
  },
  {
   "cell_type": "code",
   "execution_count": 1104,
   "metadata": {},
   "outputs": [
    {
     "data": {
      "image/png": "[encoded data removed]",
      "text/plain": [
       "<matplotlib.figure.Figure at 0x7fa76b984d10>"
      ]
     },
     "metadata": {},
     "output_type": "display_data"
    }
   ],
   "source": [
    "#Industry vs EARN\n",
    "df = plot_stacked(data, 'AMJIND', 'EARN')"
   ]
  },
  {
   "cell_type": "code",
   "execution_count": 1105,
   "metadata": {},
   "outputs": [
    {
     "data": {
      "image/png": "[encoded data removed]",
      "text/plain": [
       "<matplotlib.figure.Figure at 0x7fa76b44d190>"
      ]
     },
     "metadata": {},
     "output_type": "display_data"
    }
   ],
   "source": [
    "#Wage vs EARN\n",
    "wage0 = y[y == 0]\n",
    "wage1 = y[y == 1]\n",
    "\n",
    "plt.hist([wage0, wage1], stacked=True)\n",
    "plt.xlabel('wage per hour')\n",
    "plt.legend(('-50000', '+50000'))\n",
    "plt.title('wage per hour')\n",
    "plt.show()"
   ]
  },
  {
   "cell_type": "code",
   "execution_count": 1106,
   "metadata": {},
   "outputs": [
    {
     "data": {
      "image/png": "[encoded data removed]",
      "text/plain": [
       "<matplotlib.figure.Figure at 0x7fa76ba4a5d0>"
      ]
     },
     "metadata": {},
     "output_type": "display_data"
    }
   ],
   "source": [
    "# Marital status vs Earn\n",
    "df = plot_stacked(data, 'AMARITL', 'EARN')"
   ]
  },
  {
   "cell_type": "code",
   "execution_count": 1107,
   "metadata": {},
   "outputs": [
    {
     "data": {
      "image/png": "[encoded data removed]",
      "text/plain": [
       "<matplotlib.figure.Figure at 0x7fa76ba46ad0>"
      ]
     },
     "metadata": {},
     "output_type": "display_data"
    }
   ],
   "source": [
    "#Race status vs EARN\n",
    "df = plot_stacked(data, 'ARACE', 'EARN')"
   ]
  },
  {
   "cell_type": "code",
   "execution_count": 1108,
   "metadata": {},
   "outputs": [
    {
     "data": {
      "image/png": "[encoded data removed]",
      "text/plain": [
       "<matplotlib.figure.Figure at 0x7fa76b85d150>"
      ]
     },
     "metadata": {},
     "output_type": "display_data"
    }
   ],
   "source": [
    "#Hispanic Origin status vs EARN\n",
    "df = plot_stacked(data, 'AREORGN', 'EARN')\n"
   ]
  },
  {
   "cell_type": "code",
   "execution_count": 1109,
   "metadata": {},
   "outputs": [
    {
     "data": {
      "image/png": "[encoded data removed]",
      "text/plain": [
       "<matplotlib.figure.Figure at 0x7fa76b5c9650>"
      ]
     },
     "metadata": {},
     "output_type": "display_data"
    }
   ],
   "source": [
    "#Sex vs EARN\n",
    "df = plot_stacked(data, 'ASEX', 'EARN')"
   ]
  },
  {
   "cell_type": "code",
   "execution_count": 1110,
   "metadata": {},
   "outputs": [
    {
     "data": {
      "image/png": "[encoded data removed]",
      "text/plain": [
       "<matplotlib.figure.Figure at 0x7fa76a724650>"
      ]
     },
     "metadata": {},
     "output_type": "display_data"
    }
   ],
   "source": [
    "#Member of a labor union\n",
    "df = plot_stacked(data, 'AUNMEM', 'EARN')"
   ]
  },
  {
   "cell_type": "markdown",
   "metadata": {},
   "source": [
    "## Dimensionality reduction using PCA"
   ]
  },
  {
   "cell_type": "code",
   "execution_count": 1111,
   "metadata": {},
   "outputs": [],
   "source": [
    "#  PCA from sklearn.decompostion to find principal components\n",
    "from sklearn.decomposition import PCA\n",
    "\n",
    "pca = PCA(n_components=10)\n",
    "X_pca = pd.DataFrame(pca.fit_transform(X))"
   ]
  },
  {
   "cell_type": "code",
   "execution_count": 1112,
   "metadata": {},
   "outputs": [
    {
     "name": "stdout",
     "output_type": "stream",
     "text": [
      "            0           1           2          3          4          5  \\\n",
      "0 -446.996535 -168.033974  -40.410814 -65.499645 -13.480987  16.091688   \n",
      "1 -447.339294 -167.875249 -686.890213 -61.334431 -12.915601 -32.590340   \n",
      "2 -447.408385 -167.895833 -748.541622 -62.675275 -13.051478  30.886806   \n",
      "3 -446.981117 -168.121156   17.640685 -66.051038 -13.753089  34.102484   \n",
      "4 -447.367253 -167.926433 -671.332162 -63.049598 -13.146967  33.256182   \n",
      "\n",
      "           6          7         8         9  \n",
      "0 -45.481379  -0.623369  1.090502  0.010336  \n",
      "1 -15.904128  28.453559 -7.529240 -2.352304  \n",
      "2   7.478701  -0.580527 -0.699632  0.133644  \n",
      "3  15.952741  -0.594464 -1.086805 -0.485725  \n",
      "4  15.203586  -0.594348 -1.012621 -0.449861  \n"
     ]
    }
   ],
   "source": [
    "print(X_pca.head(5))"
   ]
  },
  {
   "cell_type": "markdown",
   "metadata": {},
   "source": [
    "# Feature selection and model building\n",
    "## Model building using processed data"
   ]
  },
  {
   "cell_type": "code",
   "execution_count": 1143,
   "metadata": {},
   "outputs": [
    {
     "name": "stdout",
     "output_type": "stream",
     "text": [
      "(199523, 42)\n",
      "(199523, 197)\n"
     ]
    }
   ],
   "source": [
    "# The total number of features have grown substantially after dummying and adding interaction terms\n",
    "print(data.shape)\n",
    "print(X.shape)\n"
   ]
  },
  {
   "cell_type": "code",
   "execution_count": 1144,
   "metadata": {},
   "outputs": [],
   "source": [
    "# Such a large set of features can cause overfitting and also slow computing\n",
    "# we Use feature selection to select the most important features\n",
    "import sklearn.feature_selection\n",
    "\n",
    "select = sklearn.feature_selection.SelectKBest(k=20)\n",
    "selected_features = select.fit(X, y)\n",
    "indices_selected = selected_features.get_support(indices=True)\n",
    "colnames_selected = [X.columns[i] for i in indices_selected]\n",
    "\n",
    "X_train_selected = X[colnames_selected]\n"
   ]
  },
  {
   "cell_type": "code",
   "execution_count": 1145,
   "metadata": {},
   "outputs": [
    {
     "data": {
      "text/plain": [
       "20"
      ]
     },
     "execution_count": 1145,
     "metadata": {},
     "output_type": "execute_result"
    }
   ],
   "source": [
    "len(X_train_selected.columns)"
   ]
  },
  {
   "cell_type": "code",
   "execution_count": 1146,
   "metadata": {},
   "outputs": [
    {
     "data": {
      "text/plain": [
       "LogisticRegression(C=1.0, class_weight=None, dual=False, fit_intercept=True,\n",
       "          intercept_scaling=1, max_iter=100, multi_class='ovr', n_jobs=1,\n",
       "          penalty='l2', random_state=None, solver='liblinear', tol=0.0001,\n",
       "          verbose=0, warm_start=False)"
      ]
     },
     "execution_count": 1146,
     "metadata": {},
     "output_type": "execute_result"
    }
   ],
   "source": [
    "# Function to build model and find model performance\n",
    "from sklearn.linear_model import LogisticRegression\n",
    "\n",
    "model = LogisticRegression()\n",
    "model.fit(X_train_selected, y)    "
   ]
  },
  {
   "cell_type": "code",
   "execution_count": 1153,
   "metadata": {},
   "outputs": [
    {
     "data": {
      "text/plain": [
       "'AHGA_ Prof school degree (MD DDS DVM LLB JD)'"
      ]
     },
     "execution_count": 1153,
     "metadata": {},
     "output_type": "execute_result"
    }
   ],
   "source": [
    "# The highest feature's contribution of predictors in logistic regression models \n",
    "model.get_params(deep = True)\n",
    "index_hight_coef = np.argmax(model.coef_)\n",
    "colnames_selected[index_hight_coef] "
   ]
  },
  {
   "cell_type": "markdown",
   "metadata": {},
   "source": [
    "# Apply the model to the Test Data"
   ]
  },
  {
   "cell_type": "code",
   "execution_count": 1154,
   "metadata": {},
   "outputs": [],
   "source": [
    "data_test = pd.read_csv('census_income_test.csv', header=None)"
   ]
  },
  {
   "cell_type": "code",
   "execution_count": 1155,
   "metadata": {},
   "outputs": [],
   "source": [
    "data_test.columns = ['AAGE', 'ACLSWKR', 'ADTIND', 'ADTOCC','AHGA','AHRSPAY','AHSCOL', 'AMARITL', 'AMJIND', \n",
    "                'AMJOCC', 'ARACE','AREORGN', 'ASEX', 'AUNMEM', 'AUNTYPE', 'AWKSTAT', 'CAPGAIN',\n",
    "                'CAPLOSS', 'DIVVAL', 'FEDTAX', 'FILESTAT', 'GRINREG', 'GRINST', 'HHDFMX', 'HHDREL',\n",
    "                'MARSUPWT', 'MIGMTR1', 'MIGMTR3', 'MIGMTR4', 'MIGSAME', 'MIGSUN', 'NOEMP', \n",
    "                'PARENT', 'PEFNTVTY', 'PEMNTVTY', 'PENATVTY', 'PRCITSHP', 'VETQVA', 'VETYN','WKSWORK', 'YEAR', 'EARN']\n",
    "\n"
   ]
  },
  {
   "cell_type": "code",
   "execution_count": 1156,
   "metadata": {},
   "outputs": [
    {
     "data": {
      "text/html": [
       "<div>\n",
       "<table border=\"1\" class=\"dataframe\">\n",
       "  <thead>\n",
       "    <tr style=\"text-align: right;\">\n",
       "      <th></th>\n",
       "      <th>AAGE</th>\n",
       "      <th>ACLSWKR</th>\n",
       "      <th>ADTIND</th>\n",
       "      <th>ADTOCC</th>\n",
       "      <th>AHGA</th>\n",
       "      <th>AHRSPAY</th>\n",
       "      <th>AHSCOL</th>\n",
       "      <th>AMARITL</th>\n",
       "      <th>AMJIND</th>\n",
       "      <th>AMJOCC</th>\n",
       "      <th>...</th>\n",
       "      <th>PARENT</th>\n",
       "      <th>PEFNTVTY</th>\n",
       "      <th>PEMNTVTY</th>\n",
       "      <th>PENATVTY</th>\n",
       "      <th>PRCITSHP</th>\n",
       "      <th>VETQVA</th>\n",
       "      <th>VETYN</th>\n",
       "      <th>WKSWORK</th>\n",
       "      <th>YEAR</th>\n",
       "      <th>EARN</th>\n",
       "    </tr>\n",
       "  </thead>\n",
       "  <tbody>\n",
       "    <tr>\n",
       "      <th>0</th>\n",
       "      <td>38</td>\n",
       "      <td>Private</td>\n",
       "      <td>6</td>\n",
       "      <td>36</td>\n",
       "      <td>1st 2nd 3rd or 4th grade</td>\n",
       "      <td>0</td>\n",
       "      <td>Not in universe</td>\n",
       "      <td>Married-civilian spouse present</td>\n",
       "      <td>Manufacturing-durable goods</td>\n",
       "      <td>Machine operators assmblrs &amp; inspctrs</td>\n",
       "      <td>...</td>\n",
       "      <td>Mexico</td>\n",
       "      <td>Mexico</td>\n",
       "      <td>Mexico</td>\n",
       "      <td>Foreign born- Not a citizen of U S</td>\n",
       "      <td>0</td>\n",
       "      <td>Not in universe</td>\n",
       "      <td>2</td>\n",
       "      <td>12</td>\n",
       "      <td>95</td>\n",
       "      <td>- 50000.</td>\n",
       "    </tr>\n",
       "    <tr>\n",
       "      <th>1</th>\n",
       "      <td>44</td>\n",
       "      <td>Self-employed-not incorporated</td>\n",
       "      <td>37</td>\n",
       "      <td>12</td>\n",
       "      <td>Associates degree-occup /vocational</td>\n",
       "      <td>0</td>\n",
       "      <td>Not in universe</td>\n",
       "      <td>Married-civilian spouse present</td>\n",
       "      <td>Business and repair services</td>\n",
       "      <td>Professional specialty</td>\n",
       "      <td>...</td>\n",
       "      <td>United-States</td>\n",
       "      <td>United-States</td>\n",
       "      <td>United-States</td>\n",
       "      <td>Native- Born in the United States</td>\n",
       "      <td>0</td>\n",
       "      <td>Not in universe</td>\n",
       "      <td>2</td>\n",
       "      <td>26</td>\n",
       "      <td>95</td>\n",
       "      <td>- 50000.</td>\n",
       "    </tr>\n",
       "    <tr>\n",
       "      <th>2</th>\n",
       "      <td>2</td>\n",
       "      <td>Not in universe</td>\n",
       "      <td>0</td>\n",
       "      <td>0</td>\n",
       "      <td>Children</td>\n",
       "      <td>0</td>\n",
       "      <td>Not in universe</td>\n",
       "      <td>Never married</td>\n",
       "      <td>Not in universe or children</td>\n",
       "      <td>Not in universe</td>\n",
       "      <td>...</td>\n",
       "      <td>United-States</td>\n",
       "      <td>United-States</td>\n",
       "      <td>United-States</td>\n",
       "      <td>Native- Born in the United States</td>\n",
       "      <td>0</td>\n",
       "      <td>Not in universe</td>\n",
       "      <td>0</td>\n",
       "      <td>0</td>\n",
       "      <td>95</td>\n",
       "      <td>- 50000.</td>\n",
       "    </tr>\n",
       "    <tr>\n",
       "      <th>3</th>\n",
       "      <td>35</td>\n",
       "      <td>Private</td>\n",
       "      <td>29</td>\n",
       "      <td>3</td>\n",
       "      <td>High school graduate</td>\n",
       "      <td>0</td>\n",
       "      <td>Not in universe</td>\n",
       "      <td>Divorced</td>\n",
       "      <td>Transportation</td>\n",
       "      <td>Executive admin and managerial</td>\n",
       "      <td>...</td>\n",
       "      <td>United-States</td>\n",
       "      <td>United-States</td>\n",
       "      <td>United-States</td>\n",
       "      <td>Native- Born in the United States</td>\n",
       "      <td>2</td>\n",
       "      <td>Not in universe</td>\n",
       "      <td>2</td>\n",
       "      <td>52</td>\n",
       "      <td>94</td>\n",
       "      <td>- 50000.</td>\n",
       "    </tr>\n",
       "    <tr>\n",
       "      <th>4</th>\n",
       "      <td>49</td>\n",
       "      <td>Private</td>\n",
       "      <td>4</td>\n",
       "      <td>34</td>\n",
       "      <td>High school graduate</td>\n",
       "      <td>0</td>\n",
       "      <td>Not in universe</td>\n",
       "      <td>Divorced</td>\n",
       "      <td>Construction</td>\n",
       "      <td>Precision production craft &amp; repair</td>\n",
       "      <td>...</td>\n",
       "      <td>United-States</td>\n",
       "      <td>United-States</td>\n",
       "      <td>United-States</td>\n",
       "      <td>Native- Born in the United States</td>\n",
       "      <td>0</td>\n",
       "      <td>Not in universe</td>\n",
       "      <td>2</td>\n",
       "      <td>50</td>\n",
       "      <td>95</td>\n",
       "      <td>- 50000.</td>\n",
       "    </tr>\n",
       "  </tbody>\n",
       "</table>\n",
       "<p>5 rows × 42 columns</p>\n",
       "</div>"
      ],
      "text/plain": [
       "   AAGE                          ACLSWKR  ADTIND  ADTOCC  \\\n",
       "0    38                          Private       6      36   \n",
       "1    44   Self-employed-not incorporated      37      12   \n",
       "2     2                  Not in universe       0       0   \n",
       "3    35                          Private      29       3   \n",
       "4    49                          Private       4      34   \n",
       "\n",
       "                                   AHGA  AHRSPAY            AHSCOL  \\\n",
       "0              1st 2nd 3rd or 4th grade        0   Not in universe   \n",
       "1   Associates degree-occup /vocational        0   Not in universe   \n",
       "2                              Children        0   Not in universe   \n",
       "3                  High school graduate        0   Not in universe   \n",
       "4                  High school graduate        0   Not in universe   \n",
       "\n",
       "                            AMARITL                         AMJIND  \\\n",
       "0   Married-civilian spouse present    Manufacturing-durable goods   \n",
       "1   Married-civilian spouse present   Business and repair services   \n",
       "2                     Never married    Not in universe or children   \n",
       "3                          Divorced                 Transportation   \n",
       "4                          Divorced                   Construction   \n",
       "\n",
       "                                   AMJOCC    ...              PARENT  \\\n",
       "0   Machine operators assmblrs & inspctrs    ...              Mexico   \n",
       "1                  Professional specialty    ...       United-States   \n",
       "2                         Not in universe    ...       United-States   \n",
       "3          Executive admin and managerial    ...       United-States   \n",
       "4     Precision production craft & repair    ...       United-States   \n",
       "\n",
       "         PEFNTVTY        PEMNTVTY                              PENATVTY  \\\n",
       "0          Mexico          Mexico   Foreign born- Not a citizen of U S    \n",
       "1   United-States   United-States     Native- Born in the United States   \n",
       "2   United-States   United-States     Native- Born in the United States   \n",
       "3   United-States   United-States     Native- Born in the United States   \n",
       "4   United-States   United-States     Native- Born in the United States   \n",
       "\n",
       "  PRCITSHP            VETQVA  VETYN  WKSWORK  YEAR       EARN  \n",
       "0        0   Not in universe      2       12    95   - 50000.  \n",
       "1        0   Not in universe      2       26    95   - 50000.  \n",
       "2        0   Not in universe      0        0    95   - 50000.  \n",
       "3        2   Not in universe      2       52    94   - 50000.  \n",
       "4        0   Not in universe      2       50    95   - 50000.  \n",
       "\n",
       "[5 rows x 42 columns]"
      ]
     },
     "execution_count": 1156,
     "metadata": {},
     "output_type": "execute_result"
    }
   ],
   "source": [
    "data_test.head()"
   ]
  },
  {
   "cell_type": "code",
   "execution_count": 1157,
   "metadata": {},
   "outputs": [],
   "source": [
    "# Assign outcome as 0 if income <=50K and as 1 if income >50K\n",
    "data_test['EARN'] = [0 if x == ' - 50000.' else 1 for x in data_test['EARN']]\n",
    "\n",
    "# Assign X as a DataFrame of features and y as a Series of the outcome variable\n",
    "X_test = data_test.drop('EARN', 1)\n",
    "y_test = data_test.EARN\n"
   ]
  },
  {
   "cell_type": "code",
   "execution_count": 1158,
   "metadata": {},
   "outputs": [
    {
     "data": {
      "text/html": [
       "<div>\n",
       "<table border=\"1\" class=\"dataframe\">\n",
       "  <thead>\n",
       "    <tr style=\"text-align: right;\">\n",
       "      <th></th>\n",
       "      <th>AAGE</th>\n",
       "      <th>ADTIND</th>\n",
       "      <th>ADTOCC</th>\n",
       "      <th>AHRSPAY</th>\n",
       "      <th>CAPGAIN</th>\n",
       "      <th>CAPLOSS</th>\n",
       "      <th>DIVVAL</th>\n",
       "      <th>HHDREL</th>\n",
       "      <th>MIGSUN</th>\n",
       "      <th>PRCITSHP</th>\n",
       "      <th>...</th>\n",
       "      <th>PEMNTVTY_ United-States</th>\n",
       "      <th>PEMNTVTY_Other</th>\n",
       "      <th>PENATVTY_ Foreign born- Not a citizen of U S</th>\n",
       "      <th>PENATVTY_ Foreign born- U S citizen by naturalization</th>\n",
       "      <th>PENATVTY_ Native- Born abroad of American Parent(s)</th>\n",
       "      <th>PENATVTY_ Native- Born in Puerto Rico or U S Outlying</th>\n",
       "      <th>PENATVTY_ Native- Born in the United States</th>\n",
       "      <th>VETQVA_ No</th>\n",
       "      <th>VETQVA_ Not in universe</th>\n",
       "      <th>VETQVA_ Yes</th>\n",
       "    </tr>\n",
       "  </thead>\n",
       "  <tbody>\n",
       "    <tr>\n",
       "      <th>0</th>\n",
       "      <td>38</td>\n",
       "      <td>6</td>\n",
       "      <td>36</td>\n",
       "      <td>0</td>\n",
       "      <td>0</td>\n",
       "      <td>0</td>\n",
       "      <td>0</td>\n",
       "      <td>1032.38</td>\n",
       "      <td>4</td>\n",
       "      <td>0</td>\n",
       "      <td>...</td>\n",
       "      <td>0</td>\n",
       "      <td>1</td>\n",
       "      <td>1</td>\n",
       "      <td>0</td>\n",
       "      <td>0</td>\n",
       "      <td>0</td>\n",
       "      <td>0</td>\n",
       "      <td>0</td>\n",
       "      <td>1</td>\n",
       "      <td>0</td>\n",
       "    </tr>\n",
       "    <tr>\n",
       "      <th>1</th>\n",
       "      <td>44</td>\n",
       "      <td>37</td>\n",
       "      <td>12</td>\n",
       "      <td>0</td>\n",
       "      <td>0</td>\n",
       "      <td>0</td>\n",
       "      <td>2500</td>\n",
       "      <td>1462.33</td>\n",
       "      <td>1</td>\n",
       "      <td>0</td>\n",
       "      <td>...</td>\n",
       "      <td>1</td>\n",
       "      <td>0</td>\n",
       "      <td>0</td>\n",
       "      <td>0</td>\n",
       "      <td>0</td>\n",
       "      <td>0</td>\n",
       "      <td>1</td>\n",
       "      <td>0</td>\n",
       "      <td>1</td>\n",
       "      <td>0</td>\n",
       "    </tr>\n",
       "    <tr>\n",
       "      <th>2</th>\n",
       "      <td>2</td>\n",
       "      <td>0</td>\n",
       "      <td>0</td>\n",
       "      <td>0</td>\n",
       "      <td>0</td>\n",
       "      <td>0</td>\n",
       "      <td>0</td>\n",
       "      <td>1601.75</td>\n",
       "      <td>0</td>\n",
       "      <td>0</td>\n",
       "      <td>...</td>\n",
       "      <td>1</td>\n",
       "      <td>0</td>\n",
       "      <td>0</td>\n",
       "      <td>0</td>\n",
       "      <td>0</td>\n",
       "      <td>0</td>\n",
       "      <td>1</td>\n",
       "      <td>0</td>\n",
       "      <td>1</td>\n",
       "      <td>0</td>\n",
       "    </tr>\n",
       "    <tr>\n",
       "      <th>3</th>\n",
       "      <td>35</td>\n",
       "      <td>29</td>\n",
       "      <td>3</td>\n",
       "      <td>0</td>\n",
       "      <td>0</td>\n",
       "      <td>0</td>\n",
       "      <td>0</td>\n",
       "      <td>1866.88</td>\n",
       "      <td>5</td>\n",
       "      <td>2</td>\n",
       "      <td>...</td>\n",
       "      <td>1</td>\n",
       "      <td>0</td>\n",
       "      <td>0</td>\n",
       "      <td>0</td>\n",
       "      <td>0</td>\n",
       "      <td>0</td>\n",
       "      <td>1</td>\n",
       "      <td>0</td>\n",
       "      <td>1</td>\n",
       "      <td>0</td>\n",
       "    </tr>\n",
       "    <tr>\n",
       "      <th>4</th>\n",
       "      <td>49</td>\n",
       "      <td>4</td>\n",
       "      <td>34</td>\n",
       "      <td>0</td>\n",
       "      <td>0</td>\n",
       "      <td>0</td>\n",
       "      <td>0</td>\n",
       "      <td>1394.54</td>\n",
       "      <td>4</td>\n",
       "      <td>0</td>\n",
       "      <td>...</td>\n",
       "      <td>1</td>\n",
       "      <td>0</td>\n",
       "      <td>0</td>\n",
       "      <td>0</td>\n",
       "      <td>0</td>\n",
       "      <td>0</td>\n",
       "      <td>1</td>\n",
       "      <td>0</td>\n",
       "      <td>1</td>\n",
       "      <td>0</td>\n",
       "    </tr>\n",
       "  </tbody>\n",
       "</table>\n",
       "<p>5 rows × 201 columns</p>\n",
       "</div>"
      ],
      "text/plain": [
       "   AAGE  ADTIND  ADTOCC  AHRSPAY  CAPGAIN  CAPLOSS  DIVVAL   HHDREL  MIGSUN  \\\n",
       "0    38       6      36        0        0        0       0  1032.38       4   \n",
       "1    44      37      12        0        0        0    2500  1462.33       1   \n",
       "2     2       0       0        0        0        0       0  1601.75       0   \n",
       "3    35      29       3        0        0        0       0  1866.88       5   \n",
       "4    49       4      34        0        0        0       0  1394.54       4   \n",
       "\n",
       "   PRCITSHP     ...       PEMNTVTY_ United-States  PEMNTVTY_Other  \\\n",
       "0         0     ...                             0               1   \n",
       "1         0     ...                             1               0   \n",
       "2         0     ...                             1               0   \n",
       "3         2     ...                             1               0   \n",
       "4         0     ...                             1               0   \n",
       "\n",
       "   PENATVTY_ Foreign born- Not a citizen of U S   \\\n",
       "0                                              1   \n",
       "1                                              0   \n",
       "2                                              0   \n",
       "3                                              0   \n",
       "4                                              0   \n",
       "\n",
       "   PENATVTY_ Foreign born- U S citizen by naturalization  \\\n",
       "0                                                  0       \n",
       "1                                                  0       \n",
       "2                                                  0       \n",
       "3                                                  0       \n",
       "4                                                  0       \n",
       "\n",
       "   PENATVTY_ Native- Born abroad of American Parent(s)  \\\n",
       "0                                                  0     \n",
       "1                                                  0     \n",
       "2                                                  0     \n",
       "3                                                  0     \n",
       "4                                                  0     \n",
       "\n",
       "   PENATVTY_ Native- Born in Puerto Rico or U S Outlying  \\\n",
       "0                                                  0       \n",
       "1                                                  0       \n",
       "2                                                  0       \n",
       "3                                                  0       \n",
       "4                                                  0       \n",
       "\n",
       "   PENATVTY_ Native- Born in the United States  VETQVA_ No  \\\n",
       "0                                            0           0   \n",
       "1                                            1           0   \n",
       "2                                            1           0   \n",
       "3                                            1           0   \n",
       "4                                            1           0   \n",
       "\n",
       "   VETQVA_ Not in universe  VETQVA_ Yes  \n",
       "0                        1            0  \n",
       "1                        1            0  \n",
       "2                        1            0  \n",
       "3                        1            0  \n",
       "4                        1            0  \n",
       "\n",
       "[5 rows x 201 columns]"
      ]
     },
     "execution_count": 1158,
     "metadata": {},
     "output_type": "execute_result"
    }
   ],
   "source": [
    "X_test['GRINREG'] = [' Not in universe' if x == ' Not in universe' else 'Other' for x in X_test['GRINREG'] ]\n",
    "X_test['GRINST'] = ['Householder' if x == ' Householder' else 'Other' for x in X_test['GRINST'] ]\n",
    "X_test['PARENT'] = [' United-States' if x == ' United-States' else 'Other' for x in X_test['PARENT'] ]\n",
    "X_test['PEFNTVTY'] = [' United-States' if x == ' United-States' else 'Other' for x in X_test['PEFNTVTY'] ]\n",
    "X_test['PEMNTVTY'] = [' United-States' if x == ' United-States' else 'Other' for x in X_test['PEMNTVTY'] ]\n",
    "#Create a list of Non numeric features\n",
    "todummy_list = ['ACLSWKR', 'AHGA', 'AHSCOL', 'AMARITL', 'AMJIND', 'AMJOCC', 'ARACE','AREORGN', 'ASEX', 'AUNMEM','AUNTYPE',\n",
    "               'AWKSTAT','FEDTAX', 'FILESTAT','GRINREG','GRINST','HHDFMX', 'MARSUPWT', 'MIGMTR1', 'MIGMTR3', 'MIGMTR4', 'MIGSAME', 'NOEMP', 'PARENT', 'PEFNTVTY', 'PEMNTVTY', 'PENATVTY', 'VETQVA']\n",
    "\n",
    "X_test = label_encoding(X_test, todummy_list) \n",
    "X_test.head()"
   ]
  },
  {
   "cell_type": "code",
   "execution_count": 1159,
   "metadata": {},
   "outputs": [],
   "source": [
    "X_test_selected = X_test[colnames_selected]"
   ]
  },
  {
   "cell_type": "code",
   "execution_count": 1160,
   "metadata": {},
   "outputs": [],
   "source": [
    "from sklearn.metrics import roc_auc_score\n",
    "y_hat = [x[1] for x in model.predict_proba(X_test_selected)]\n",
    "auc = roc_auc_score(y_test, y_hat)\n",
    "    "
   ]
  },
  {
   "cell_type": "code",
   "execution_count": 1161,
   "metadata": {},
   "outputs": [
    {
     "name": "stdout",
     "output_type": "stream",
     "text": [
      "0.921087302016\n"
     ]
    }
   ],
   "source": [
    "#Model Performance\n",
    "print(auc)"
   ]
  }
 ],
 "metadata": {
  "kernelspec": {
   "display_name": "Python 2",
   "language": "python",
   "name": "python2"
  },
  "language_info": {
   "codemirror_mode": {
    "name": "ipython",
    "version": 2
   },
   "file_extension": ".py",
   "mimetype": "text/x-python",
   "name": "python",
   "nbconvert_exporter": "python",
   "pygments_lexer": "ipython2",
   "version": "2.7.12"
  }
 },
 "nbformat": 4,
 "nbformat_minor": 2
}
